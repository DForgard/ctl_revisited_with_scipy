{
 "cells": [
  {
   "cell_type": "markdown",
   "id": "6304e1bd",
   "metadata": {},
   "source": [
    "# Central Limit Theorem (CLT) - Revisited with Scipy"
   ]
  },
  {
   "cell_type": "code",
   "execution_count": 5,
   "id": "8093f377",
   "metadata": {},
   "outputs": [],
   "source": [
    "# Data Manipulation\n",
    "import numpy as np\n",
    "import pandas as pd\n",
    "\n",
    "# Data Visualisation\n",
    "import seaborn as sns\n",
    "import matplotlib.pyplot as plt\n",
    "\n",
    "# Scientific library\n",
    "import scipy.stats as stats"
   ]
  },
  {
   "cell_type": "markdown",
   "id": "674ace8c",
   "metadata": {},
   "source": [
    " \n",
    "You can use <a href=\"https://seaborn.pydata.org/generated/seaborn.load_dataset.html\"><code>seaborn.load_dataset</code></a>"
   ]
  },
  {
   "cell_type": "code",
   "execution_count": 2,
   "id": "751de601",
   "metadata": {
    "scrolled": false
   },
   "outputs": [
    {
     "data": {
      "text/html": [
       "<div>\n",
       "<style scoped>\n",
       "    .dataframe tbody tr th:only-of-type {\n",
       "        vertical-align: middle;\n",
       "    }\n",
       "\n",
       "    .dataframe tbody tr th {\n",
       "        vertical-align: top;\n",
       "    }\n",
       "\n",
       "    .dataframe thead th {\n",
       "        text-align: right;\n",
       "    }\n",
       "</style>\n",
       "<table border=\"1\" class=\"dataframe\">\n",
       "  <thead>\n",
       "    <tr style=\"text-align: right;\">\n",
       "      <th></th>\n",
       "      <th>total_bill</th>\n",
       "      <th>tip</th>\n",
       "      <th>sex</th>\n",
       "      <th>smoker</th>\n",
       "      <th>day</th>\n",
       "      <th>time</th>\n",
       "      <th>size</th>\n",
       "    </tr>\n",
       "  </thead>\n",
       "  <tbody>\n",
       "    <tr>\n",
       "      <th>0</th>\n",
       "      <td>16.99</td>\n",
       "      <td>1.01</td>\n",
       "      <td>Female</td>\n",
       "      <td>No</td>\n",
       "      <td>Sun</td>\n",
       "      <td>Dinner</td>\n",
       "      <td>2</td>\n",
       "    </tr>\n",
       "    <tr>\n",
       "      <th>1</th>\n",
       "      <td>10.34</td>\n",
       "      <td>1.66</td>\n",
       "      <td>Male</td>\n",
       "      <td>No</td>\n",
       "      <td>Sun</td>\n",
       "      <td>Dinner</td>\n",
       "      <td>3</td>\n",
       "    </tr>\n",
       "    <tr>\n",
       "      <th>2</th>\n",
       "      <td>21.01</td>\n",
       "      <td>3.50</td>\n",
       "      <td>Male</td>\n",
       "      <td>No</td>\n",
       "      <td>Sun</td>\n",
       "      <td>Dinner</td>\n",
       "      <td>3</td>\n",
       "    </tr>\n",
       "    <tr>\n",
       "      <th>3</th>\n",
       "      <td>23.68</td>\n",
       "      <td>3.31</td>\n",
       "      <td>Male</td>\n",
       "      <td>No</td>\n",
       "      <td>Sun</td>\n",
       "      <td>Dinner</td>\n",
       "      <td>2</td>\n",
       "    </tr>\n",
       "    <tr>\n",
       "      <th>4</th>\n",
       "      <td>24.59</td>\n",
       "      <td>3.61</td>\n",
       "      <td>Female</td>\n",
       "      <td>No</td>\n",
       "      <td>Sun</td>\n",
       "      <td>Dinner</td>\n",
       "      <td>4</td>\n",
       "    </tr>\n",
       "  </tbody>\n",
       "</table>\n",
       "</div>"
      ],
      "text/plain": [
       "   total_bill   tip     sex smoker  day    time  size\n",
       "0       16.99  1.01  Female     No  Sun  Dinner     2\n",
       "1       10.34  1.66    Male     No  Sun  Dinner     3\n",
       "2       21.01  3.50    Male     No  Sun  Dinner     3\n",
       "3       23.68  3.31    Male     No  Sun  Dinner     2\n",
       "4       24.59  3.61  Female     No  Sun  Dinner     4"
      ]
     },
     "execution_count": 2,
     "metadata": {},
     "output_type": "execute_result"
    }
   ],
   "source": [
    "df = sns.load_dataset(\"tips\")\n",
    "df.head()"
   ]
  },
  {
   "cell_type": "markdown",
   "id": "7e01b749",
   "metadata": {},
   "source": [
    "## 🧐 Exploratory Data Analysis (EDA)"
   ]
  },
  {
   "cell_type": "code",
   "execution_count": 9,
   "id": "03ad54c7",
   "metadata": {},
   "outputs": [
    {
     "data": {
      "text/plain": [
       "244"
      ]
     },
     "execution_count": 9,
     "metadata": {},
     "output_type": "execute_result"
    }
   ],
   "source": [
    "# How many rows are available in the dataset ❓\n",
    "len(df)"
   ]
  },
  {
   "cell_type": "code",
   "execution_count": 12,
   "id": "bbf62015",
   "metadata": {},
   "outputs": [
    {
     "data": {
      "text/plain": [
       "<seaborn.axisgrid.FacetGrid at 0x7fde404b2370>"
      ]
     },
     "execution_count": 12,
     "metadata": {},
     "output_type": "execute_result"
    },
    {
     "data": {
      "image/png": "[encoded data removed]",
      "text/plain": [
       "<Figure size 360x360 with 1 Axes>"
      ]
     },
     "metadata": {
      "needs_background": "light"
     },
     "output_type": "display_data"
    }
   ],
   "source": [
    "sns.displot(x = 'total_bill', data = df, kde = True)"
   ]
  },
  {
   "cell_type": "code",
   "execution_count": 17,
   "id": "ac170cef",
   "metadata": {},
   "outputs": [
    {
     "name": "stdout",
     "output_type": "stream",
     "text": [
      "mu: 19.79\n",
      "sigma: 8.9\n",
      "skew: 1.13\n",
      "kurtosis: 1.22\n"
     ]
    }
   ],
   "source": [
    "# The variables `mu`, `sigma`, 'skew', 'kurtosis'\n",
    "\n",
    "mu = df[\"total_bill\"].mean()\n",
    "sigma = df[\"total_bill\"].std()\n",
    "skew = df[\"total_bill\"].skew()\n",
    "kurtosis = df[\"total_bill\"].kurtosis()\n",
    "\n",
    "print(f\"mu: {round(mu,2)}\")\n",
    "print(f\"sigma: {round(sigma,2)}\")\n",
    "print(f\"skew: {round(skew,2)}\")\n",
    "print(f\"kurtosis: {round(kurtosis,2)}\")"
   ]
  },
  {
   "cell_type": "code",
   "execution_count": 18,
   "id": "1f5b4818",
   "metadata": {},
   "outputs": [
    {
     "name": "stdout",
     "output_type": "stream",
     "text": [
      "    n    𝚫mu  𝚫sigma   skew  kurtosis\n",
      "    1 -0.065   0.150  1.089     1.117\n",
      "    5 -0.065   0.025  0.495     0.183\n",
      "   50 -0.003  -0.020  0.154    -0.017\n",
      "  100 -0.003   0.004  0.063     0.046\n",
      "  500 -0.010  -0.003  0.055     0.030\n",
      " 1000 -0.001  -0.000 -0.023    -0.034\n",
      " 5000 -0.001  -0.001 -0.012    -0.035\n",
      "10000 -0.001  -0.001  0.057     0.004\n"
     ]
    }
   ],
   "source": [
    "N = 5000\n",
    "\n",
    "list_of_n = [1, 5, 50, 100, 500, 1000, 5000, 10_000]\n",
    "\n",
    "delta_mu = []\n",
    "delta_sigma = []\n",
    "skewnes_history = []\n",
    "kurtosis_history = []\n",
    "\n",
    "for n in list_of_n:\n",
    "    # sampling\n",
    "    sampled_means = [df[\"total_bill\"].sample(n, replace=True).mean() for i in range(N)]\n",
    "    # difference in theoretical expectation vs sampled expectation\n",
    "    mu_diff = mu - np.mean(sampled_means)\n",
    "    delta_mu.append(mu_diff)\n",
    "    # difference in theoretical standard deviation vs. standard deviation\n",
    "    sigma_diff = sigma / np.sqrt(n) - np.std(sampled_means)\n",
    "    delta_sigma.append(sigma_diff)\n",
    "    # skewness and kurtosis\n",
    "    skewnes_history.append(stats.skew(sampled_means))    \n",
    "    kurtosis_history.append(stats.kurtosis(sampled_means))\n",
    "    \n",
    "results_from_simulation = pd.DataFrame(data ={\"n\":list_of_n,\n",
    "                                              \"𝚫mu\":delta_mu,\n",
    "                                             \"𝚫sigma\":delta_sigma,\n",
    "                                             \"skew\":skewnes_history,\n",
    "                                             \"kurtosis\":kurtosis_history,})\n",
    "print(round(results_from_simulation,3).to_string(index = False))"
   ]
  }
 ],
 "metadata": {
  "kernelspec": {
   "display_name": "Python 3 (ipykernel)",
   "language": "python",
   "name": "python3"
  },
  "language_info": {
   "codemirror_mode": {
    "name": "ipython",
    "version": 3
   },
   "file_extension": ".py",
   "mimetype": "text/x-python",
   "name": "python",
   "nbconvert_exporter": "python",
   "pygments_lexer": "ipython3",
   "version": "3.8.12"
  },
  "toc": {
   "base_numbering": 1,
   "nav_menu": {},
   "number_sections": true,
   "sideBar": true,
   "skip_h1_title": false,
   "title_cell": "Table of Contents",
   "title_sidebar": "Contents",
   "toc_cell": false,
   "toc_position": {},
   "toc_section_display": true,
   "toc_window_display": false
  }
 },
 "nbformat": 4,
 "nbformat_minor": 5
}
